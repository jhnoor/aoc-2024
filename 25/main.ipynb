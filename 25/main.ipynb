{
 "cells": [
  {
   "cell_type": "markdown",
   "metadata": {},
   "source": [
    "$M_k + M_l = M_1$ where $M_k$ and $M_l$ are matrices of size $h \\times p$\n",
    "\n",
    "$h$ is the height (rows) of the lock/key schematic, and $p$ are the number of pins in the lock/key.\n",
    "\n",
    "$M_{k} \\in KM$, the key matrix set\n",
    "\n",
    "$M_{l} \\in LM$, the lock matrix set"
   ]
  },
  {
   "cell_type": "code",
   "execution_count": 32,
   "metadata": {},
   "outputs": [],
   "source": [
    "import numpy as np\n",
    "\n",
    "\n",
    "\n",
    "def read_file(filename):\n",
    "    km = []\n",
    "    lm = []\n",
    "    with open(filename) as f:\n",
    "        lines = f.readlines()\n",
    "\n",
    "        li = 0\n",
    "        while li < len(lines):\n",
    "            l_set = lines[li:li+7]\n",
    "            li += 8\n",
    "            if l_set[0] == '#####\\n':\n",
    "                lm.append([[(1 if k == '#' else 0) for k in r.strip()] for r in l_set])\n",
    "            else:\n",
    "                km.append([[(1 if k == '#' else 0) for k in r.strip()] for r in l_set])\n",
    "\n",
    "    return np.array(km), np.array(lm)\n",
    "\n",
    "km, lm = read_file('example.txt')"
   ]
  },
  {
   "cell_type": "code",
   "execution_count": 33,
   "metadata": {},
   "outputs": [
    {
     "name": "stdout",
     "output_type": "stream",
     "text": [
      "[[1 1 1 1 1]\n",
      " [0 1 1 1 1]\n",
      " [0 1 1 1 1]\n",
      " [0 1 1 1 1]\n",
      " [0 1 0 1 0]\n",
      " [0 1 0 0 0]\n",
      " [0 0 0 0 0]]\n",
      "[[0 0 0 0 0]\n",
      " [0 0 0 0 0]\n",
      " [0 0 0 0 0]\n",
      " [1 0 0 0 0]\n",
      " [1 0 1 0 0]\n",
      " [1 0 1 0 1]\n",
      " [1 1 1 1 1]]\n"
     ]
    }
   ],
   "source": [
    "assert km.shape == (3, 7, 5), km.shape\n",
    "assert lm.shape == (2, 7, 5), lm.shape\n",
    "\n",
    "print(lm[0])\n",
    "print(km[2])\n",
    "\n",
    "def can_fit(key, lock):\n",
    "    overlap = key + lock\n",
    "    # any value > 1 means there is a conflict\n",
    "    return np.all(overlap <= 1)\n",
    "\n",
    "assert can_fit(lm[0], km[2]) == True\n",
    "assert can_fit(lm[0], km[1]) == False"
   ]
  },
  {
   "cell_type": "code",
   "execution_count": 34,
   "metadata": {},
   "outputs": [],
   "source": [
    "count = 0\n",
    "for lmi in lm:\n",
    "    for kmi in km:\n",
    "        if can_fit(lmi, kmi):\n",
    "            count += 1\n",
    "\n",
    "assert count == 3"
   ]
  },
  {
   "cell_type": "code",
   "execution_count": 36,
   "metadata": {},
   "outputs": [
    {
     "name": "stdout",
     "output_type": "stream",
     "text": [
      "3287\n"
     ]
    }
   ],
   "source": [
    "km, lm = read_file('input.txt')\n",
    "\n",
    "count = 0\n",
    "for lmi in lm:\n",
    "    for kmi in km:\n",
    "        if can_fit(lmi, kmi):\n",
    "            count += 1\n",
    "\n",
    "print(count)"
   ]
  }
 ],
 "metadata": {
  "kernelspec": {
   "display_name": ".venv",
   "language": "python",
   "name": "python3"
  },
  "language_info": {
   "codemirror_mode": {
    "name": "ipython",
    "version": 3
   },
   "file_extension": ".py",
   "mimetype": "text/x-python",
   "name": "python",
   "nbconvert_exporter": "python",
   "pygments_lexer": "ipython3",
   "version": "3.12.7"
  }
 },
 "nbformat": 4,
 "nbformat_minor": 2
}
