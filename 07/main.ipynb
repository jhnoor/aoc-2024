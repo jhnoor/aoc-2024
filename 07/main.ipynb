{
 "cells": [
  {
   "cell_type": "code",
   "execution_count": 1,
   "metadata": {},
   "outputs": [
    {
     "name": "stdout",
     "output_type": "stream",
     "text": [
      "465126289353\n"
     ]
    }
   ],
   "source": [
    "equations = []\n",
    "with open('input.txt') as f:\n",
    "    for line in f:\n",
    "        line = line.strip()\n",
    "        equation = {\n",
    "            'result': int(line.split(\":\")[0]),\n",
    "            'terms': [int(t) for t in line.split(\":\")[1].strip().split(\" \")]\n",
    "        }\n",
    "\n",
    "        equations.append(equation)\n",
    "\n",
    "bag_of_operators = ['+', '*']\n",
    "\n",
    "def solve(equation):\n",
    "    # given terms and result, solve for missing operators\n",
    "    sum = 0\n",
    "    terms = equation['terms']\n",
    "    result = equation['result']\n",
    "    operator_slots = len(terms) - 1\n",
    "\n",
    "    possible_operators = get_possible_operators(operator_slots)\n",
    "\n",
    "    for ops in possible_operators:\n",
    "        res = terms[0]\n",
    "        for i in range(1, len(terms)):\n",
    "            if ops[i-1] == '+':\n",
    "                res += terms[i]\n",
    "            else:\n",
    "                res *= terms[i]\n",
    "                \n",
    "        if res == result:\n",
    "            sum += res\n",
    "            break\n",
    "    return sum\n",
    "\n",
    "def get_possible_operators(operator_slots):\n",
    "    res_ops = []\n",
    "    for i in range(2**operator_slots):\n",
    "        ops = []\n",
    "        for j in range(operator_slots):\n",
    "            if i & (1 << j):\n",
    "                ops.append('+')\n",
    "            else:\n",
    "                ops.append('*')\n",
    "        \n",
    "        res_ops.append(ops)\n",
    "    return res_ops\n",
    "\n",
    "print(sum([solve(equation) for equation in equations]))"
   ]
  },
  {
   "cell_type": "code",
   "execution_count": 17,
   "metadata": {},
   "outputs": [
    {
     "name": "stdout",
     "output_type": "stream",
     "text": [
      "70597497486371\n"
     ]
    }
   ],
   "source": [
    "import itertools\n",
    "\n",
    "equations = []\n",
    "with open('input.txt') as f:\n",
    "    for line in f:\n",
    "        line = line.strip()\n",
    "        equation = {\n",
    "            'result': int(line.split(\":\")[0]),\n",
    "            'terms': [int(t) for t in line.split(\":\")[1].strip().split(\" \")]\n",
    "        }\n",
    "\n",
    "        equations.append(equation)\n",
    "\n",
    "bag_of_operators = ['+', '*', '||']\n",
    "\n",
    "def solve(equation):\n",
    "    # given terms and result, solve for missing operators\n",
    "    sum = 0\n",
    "    terms = equation['terms']\n",
    "    result = equation['result']\n",
    "    operator_slots = len(terms) - 1\n",
    "\n",
    "    possible_operators = get_possible_operators(operator_slots)\n",
    "\n",
    "    for ops in possible_operators:\n",
    "        res = terms[0]\n",
    "        for i in range(1, len(terms)):\n",
    "            # if ops[i-1] == '+':\n",
    "            #     res += terms[i]\n",
    "            # else:\n",
    "            #     res *= terms[i]\n",
    "            if ops[i-1] == '+':\n",
    "                res += terms[i]\n",
    "            elif ops[i-1] == '*':\n",
    "                res *= terms[i]\n",
    "            elif ops[i-1] == '||':\n",
    "                res = int(str(res) + str(terms[i]))\n",
    "            else:\n",
    "                raise Exception(\"Unknown operator\")\n",
    "                \n",
    "        if res == result:\n",
    "            sum += res\n",
    "            break\n",
    "    return sum\n",
    "\n",
    "def get_possible_operators(operator_slots):\n",
    "    res_ops = []\n",
    "    for ops in itertools.product(bag_of_operators, repeat=operator_slots):\n",
    "        res_ops.append(ops)\n",
    "    return res_ops\n",
    "\n",
    "print(sum([solve(equation) for equation in equations]))"
   ]
  }
 ],
 "metadata": {
  "kernelspec": {
   "display_name": ".venv",
   "language": "python",
   "name": "python3"
  },
  "language_info": {
   "codemirror_mode": {
    "name": "ipython",
    "version": 3
   },
   "file_extension": ".py",
   "mimetype": "text/x-python",
   "name": "python",
   "nbconvert_exporter": "python",
   "pygments_lexer": "ipython3",
   "version": "3.12.7"
  }
 },
 "nbformat": 4,
 "nbformat_minor": 2
}
