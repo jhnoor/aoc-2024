{
 "cells": [
  {
   "cell_type": "code",
   "execution_count": 21,
   "metadata": {},
   "outputs": [
    {
     "name": "stdout",
     "output_type": "stream",
     "text": [
      "277444936413293\n"
     ]
    }
   ],
   "source": [
    "import numpy as np\n",
    "mem = {}\n",
    "\n",
    "def core(n):\n",
    "    if n == 0:\n",
    "        return [1]\n",
    "    elif int(np.log10(n)) % 2 != 0:  # even number of digits\n",
    "        no_digits = int(np.log10(n))+1\n",
    "        left = n // 10 ** (no_digits / 2)\n",
    "        right = n % 10 ** (no_digits / 2)\n",
    "        return [int(left), int(right)]\n",
    "    else:\n",
    "        return [n*2024]\n",
    "\n",
    "\n",
    "def blink(ns, m):\n",
    "    # blink the number n, m times\n",
    "    for n in ns:\n",
    "        if mem.get((n, m)) is None:\n",
    "            # not in memory\n",
    "            if m == 1:  # base case\n",
    "                mem[(n, m)] = len(core(n))\n",
    "            else:\n",
    "                mem[(n, m)] = np.sum([blink([x], m-1) for x in core(n)])\n",
    "\n",
    "    return np.sum([mem[(n, m)] for n in ns])\n",
    "    \n",
    "stones = [337, 42493, 1891760, 351136, 2, 6932, 73, 0]\n",
    "\n",
    "tot_stones = blink(stones, 75)\n",
    "print(tot_stones)"
   ]
  }
 ],
 "metadata": {
  "kernelspec": {
   "display_name": ".venv",
   "language": "python",
   "name": "python3"
  },
  "language_info": {
   "codemirror_mode": {
    "name": "ipython",
    "version": 3
   },
   "file_extension": ".py",
   "mimetype": "text/x-python",
   "name": "python",
   "nbconvert_exporter": "python",
   "pygments_lexer": "ipython3",
   "version": "3.12.7"
  }
 },
 "nbformat": 4,
 "nbformat_minor": 2
}
