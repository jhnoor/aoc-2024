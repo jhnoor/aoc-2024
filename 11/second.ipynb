{
 "cells": [
  {
   "cell_type": "code",
   "execution_count": 2,
   "metadata": {},
   "outputs": [
    {
     "data": {
      "text/plain": [
       "(28.11694097518921, 15217750)"
      ]
     },
     "execution_count": 2,
     "metadata": {},
     "output_type": "execute_result"
    }
   ],
   "source": [
    "from concurrent.futures import ThreadPoolExecutor\n",
    "import numpy as np\n",
    "\n",
    "def blink(n: int) -> list[int]:\n",
    "    if n == 0:\n",
    "        return [1]\n",
    "    elif int(np.log10(n)) % 2 != 0:\n",
    "        no_digits = int(np.log10(n))+1\n",
    "        left = n // 10 ** (no_digits / 2)\n",
    "        right = n % 10 ** (no_digits / 2)\n",
    "        return [left, right]\n",
    "    else:\n",
    "        return [n * 2024]\n",
    "\n",
    "def process_slice(slice):\n",
    "    return [item for sublist in map(blink, slice) for item in sublist]\n",
    "\n",
    "def parallel_process(array, num_threads):\n",
    "    slice_size = (len(array) + num_threads - 1) // num_threads \n",
    "    slices = [array[i:i + slice_size] for i in range(0, len(array), slice_size)]\n",
    "\n",
    "    results = []\n",
    "    with ThreadPoolExecutor(max_workers=num_threads) as executor:\n",
    "        futures = [executor.submit(process_slice, slice) for slice in slices]\n",
    "        for future in futures:\n",
    "            results.extend(future.result())\n",
    "\n",
    "    return results\n",
    "\n",
    "nums = []\n",
    "with open('input.txt') as f:\n",
    "    nums = [int(x) for x in f.readline().strip().split(\" \")]\n",
    "    \n",
    "import time\n",
    "\n",
    "times_x_inputs = []\n",
    "num_threads = 10\n",
    "\n",
    "def measure(n, nums):\n",
    "    start = time.time()\n",
    "    for _ in range(n):\n",
    "        nums = parallel_process(nums, num_threads)\n",
    "\n",
    "    return (time.time()-start, len(nums))\n",
    "\n",
    "measure(35, nums)\n"
   ]
  },
  {
   "cell_type": "code",
   "execution_count": 175,
   "metadata": {},
   "outputs": [
    {
     "name": "stdout",
     "output_type": "stream",
     "text": [
      "[1, 4, 9, 16, 25, 36, 49, 64, 81, 100, 121, 144, 169, 196, 225, 256, 289, 324, 361, 400, 441, 484, 529, 576, 625, 676, 729, 784, 841, 900, 961, 1024, 1089, 1156, 1225, 1296, 1369, 1444, 1521, 1600, 1681, 1764, 1849, 1936, 2025, 2116, 2209, 2304, 2401, 2500, 2601, 2704, 2809, 2916, 3025, 3136, 3249, 3364, 3481, 3600, 3721, 3844, 3969, 4096, 4225, 4356, 4489, 4624, 4761, 4900, 5041, 5184, 5329, 5476]\n"
     ]
    }
   ],
   "source": [
    "\n",
    "# exponentially increasing numbers\n",
    "print([int(n**2) for n in range(1, 75)])"
   ]
  }
 ],
 "metadata": {
  "kernelspec": {
   "display_name": ".venv",
   "language": "python",
   "name": "python3"
  },
  "language_info": {
   "codemirror_mode": {
    "name": "ipython",
    "version": 3
   },
   "file_extension": ".py",
   "mimetype": "text/x-python",
   "name": "python",
   "nbconvert_exporter": "python",
   "pygments_lexer": "ipython3",
   "version": "3.12.7"
  }
 },
 "nbformat": 4,
 "nbformat_minor": 2
}
