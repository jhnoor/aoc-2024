{
 "cells": [
  {
   "cell_type": "code",
   "execution_count": 134,
   "metadata": {},
   "outputs": [],
   "source": [
    "int_map = {\n",
    "    '.': 0, # floor\n",
    "    '#': 1, # wall\n",
    "    'O': 2, # movable box\n",
    "    '@': 3 # robot\n",
    "}\n",
    "\n",
    "int_map_inv = {v: k for k, v in int_map.items()}\n",
    "\n",
    "move_map = {\n",
    "    '^': (-1, 0),\n",
    "    'v': (1, 0),\n",
    "    '<': (0, -1),\n",
    "    '>': (0, 1)\n",
    "}\n",
    "move_map_inv = {v: k for k, v in move_map.items()}"
   ]
  },
  {
   "cell_type": "code",
   "execution_count": 135,
   "metadata": {},
   "outputs": [],
   "source": [
    "import numpy as np\n",
    "import matplotlib.pyplot as plt\n",
    "\n",
    "class Robot():\n",
    "    def __init__(self, init_p: tuple[int, int], move_set: list[tuple[int, int]]):\n",
    "        self.p = init_p\n",
    "        self.move_set = move_set\n",
    "        self.move_set_idx = 0\n",
    "\n",
    "    def get_next_move(self):\n",
    "        if self.move_set_idx >= len(self.move_set):\n",
    "            return None\n",
    "        return self.move_set[self.move_set_idx]\n",
    "    \n",
    "    def get_next_move_str(self):\n",
    "        next_move = self.get_next_move()\n",
    "        if next_move is None:\n",
    "            return ''\n",
    "        return move_map_inv[next_move]\n",
    "\n",
    "    def __repr__(self):\n",
    "        return f'(p={self.p}, [next_moves={self.move_set[self.move_set_idx:self.move_set_idx+5]}])'\n",
    "    \n",
    "class Floor():\n",
    "    def __init__(self, floor: np.ndarray[np.int8]):\n",
    "        self.floor = floor\n",
    "\n",
    "    def move(self, robot):\n",
    "        next_move = robot.move_set[robot.move_set_idx]\n",
    "        robot.move_set_idx += 1\n",
    "        next_pos = (robot.p[0] + next_move[0], robot.p[1] + next_move[1])\n",
    "        if self.floor[next_pos[0]][next_pos[1]] == int_map['#']:\n",
    "            return False\n",
    "        elif self.floor[next_pos[0]][next_pos[1]] == int_map['O']:\n",
    "            # for all cells in the direction of the box\n",
    "            t_next_pos_list = []\n",
    "            t_next_pos = next_pos\n",
    "            while True:\n",
    "                t_next_pos = (t_next_pos[0] + next_move[0], t_next_pos[1] + next_move[1])\n",
    "                t_next_pos_list.append(t_next_pos)\n",
    "                # if neighbour cell is floor, move box\n",
    "                if self.floor[t_next_pos[0]][t_next_pos[1]] == int_map['.']:\n",
    "                    # for each t_next_pos in t_next_pos_list, move box to t_next_pos\n",
    "                    for p_t_next_pos in t_next_pos_list:\n",
    "                        self.floor[p_t_next_pos[0]][p_t_next_pos[1]] = int_map['O']\n",
    "                    \n",
    "                    # move robot\n",
    "                    self.floor[next_pos[0]][next_pos[1]] = int_map['@']\n",
    "                    self.floor[robot.p[0]][robot.p[1]] = int_map['.']\n",
    "                    robot.p = next_pos\n",
    "                    return True\n",
    "                # if neighbour cell is box, continue\n",
    "                elif self.floor[t_next_pos[0]][t_next_pos[1]] == int_map['O']:\n",
    "                    continue\n",
    "                # if neighbour cell is wall, return False\n",
    "                else:\n",
    "                    return False\n",
    "        else:\n",
    "            # floor\n",
    "            self.floor[next_pos[0]][next_pos[1]] = int_map['@']\n",
    "            self.floor[robot.p[0]][robot.p[1]] = int_map['.']\n",
    "            robot.p = next_pos\n",
    "            return True\n",
    "    \n",
    "    def __str__(self):\n",
    "        s = ''\n",
    "        for row in self.floor:\n",
    "            s += ''.join([int_map_inv[i] for i in row]) + '\\n'\n",
    "        return s\n",
    "    \n",
    "    def graph(self, robot: Robot):\n",
    "        plt.imshow(self.floor)\n",
    "        # label robot\n",
    "        plt.text(robot.p[1], robot.p[0], robot.get_next_move_str(), ha='center', va='center')\n",
    "        plt.show()\n"
   ]
  },
  {
   "cell_type": "code",
   "execution_count": 141,
   "metadata": {},
   "outputs": [
    {
     "data": {
      "image/png": "[encoded data removed]",
      "text/plain": [
       "<Figure size 640x480 with 1 Axes>"
      ]
     },
     "metadata": {},
     "output_type": "display_data"
    },
    {
     "data": {
      "image/png": "[encoded data removed]",
      "text/plain": [
       "<Figure size 640x480 with 1 Axes>"
      ]
     },
     "metadata": {},
     "output_type": "display_data"
    },
    {
     "name": "stdout",
     "output_type": "stream",
     "text": [
      "GPS: 1436690\n"
     ]
    }
   ],
   "source": [
    "floor = []\n",
    "move_set = []\n",
    "\n",
    "with open('input.txt') as f:\n",
    "    is_map = True\n",
    "    for line in f:\n",
    "        if line.strip() == '':\n",
    "            is_map = False\n",
    "            continue\n",
    "        if is_map:\n",
    "            line = line.strip()\n",
    "            floor.append([int_map[c] for c in line])\n",
    "        else:\n",
    "            # moves\n",
    "            line = line.strip()\n",
    "            move_set += [move_map[c] for c in line]\n",
    "\n",
    "floor = np.array(floor, dtype=np.int8)\n",
    "floor = Floor(floor)\n",
    "\n",
    "robot_p = np.where(floor.floor == 3)\n",
    "robot_p = (int(robot_p[0][0]), int(robot_p[1][0]))\n",
    "\n",
    "robot = Robot(robot_p, move_set)\n",
    "\n",
    "floor.graph(robot)\n",
    "\n",
    "for _ in range(len(move_set)):\n",
    "    floor.move(robot)\n",
    "\n",
    "floor.graph(robot)\n",
    "\n",
    "cum_sum = 0\n",
    "\n",
    "# GPS (Good Positioning System)\n",
    "for i in range(floor.floor.shape[0]):\n",
    "    for j in range(floor.floor.shape[1]):\n",
    "        if floor.floor[i][j] == int_map['O']:\n",
    "            cum_sum += 100 * i + j\n",
    "\n",
    "print(f'GPS: {cum_sum}')"
   ]
  }
 ],
 "metadata": {
  "kernelspec": {
   "display_name": ".venv",
   "language": "python",
   "name": "python3"
  },
  "language_info": {
   "codemirror_mode": {
    "name": "ipython",
    "version": 3
   },
   "file_extension": ".py",
   "mimetype": "text/x-python",
   "name": "python",
   "nbconvert_exporter": "python",
   "pygments_lexer": "ipython3",
   "version": "3.12.7"
  }
 },
 "nbformat": 4,
 "nbformat_minor": 2
}
