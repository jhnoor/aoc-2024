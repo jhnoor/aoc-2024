{
 "cells": [
  {
   "cell_type": "code",
   "execution_count": 108,
   "metadata": {},
   "outputs": [
    {
     "name": "stdout",
     "output_type": "stream",
     "text": [
      "[(79, 26), (75, 21), (75, 86), (74, 69), (74, 86)] [(46, 85), (46, 33), (56, 58), (56, 53), (89, 85)]\n",
      "[79, 72, 94, 83, 85] [79, 85, 36, 39, 95, 72, 64, 44, 73, 46, 54, 83, 65, 15, 38, 97, 94, 12, 47, 67, 35]\n"
     ]
    }
   ],
   "source": [
    "with open('input.txt') as f:\n",
    "    lines = f.readlines()\n",
    "\n",
    "page_order_rules = []\n",
    "\n",
    "for i, line in enumerate(lines):\n",
    "    po = line.split('|')\n",
    "    if len(po) == 2:\n",
    "        page_order_rules.append((int(po[0]), int(po[1])))\n",
    "    else:\n",
    "        u_i = i\n",
    "        break\n",
    "\n",
    "\n",
    "print(page_order_rules[:5], page_order_rules[-5:])\n",
    "\n",
    "updates = [[int(a) for a in l] for l in [x.strip().split(',') for x in lines[u_i+1:]]]\n",
    "\n",
    "print(updates[0], updates[-1])"
   ]
  },
  {
   "cell_type": "code",
   "execution_count": 109,
   "metadata": {},
   "outputs": [
    {
     "name": "stdout",
     "output_type": "stream",
     "text": [
      "{79: [26, 15, 52, 41, 57, 67, 18, 88, 33, 12, 37, 69, 56, 83, 44, 68, 89, 75, 74, 98, 48, 86, 34, 58], 75: [21, 86, 85, 89, 77, 52, 69, 48, 99, 26, 35, 82, 28, 46, 97, 36, 95, 39, 88, 58, 41, 53, 25, 72], 74: [69, 86, 75, 21, 18, 88, 99, 33, 89, 48, 53, 68, 34, 98, 57, 26, 25, 77, 41, 52, 56, 37, 28, 58], 35: [62, 74, 47, 57, 68, 12, 44, 38, 18, 94, 56, 79, 98, 67, 83, 15, 43, 33, 37, 54, 65, 73, 64, 34], 86: [28, 95, 53, 99, 46, 39, 43, 85, 69, 36, 77, 48, 97, 26, 82, 89, 38, 35, 58, 25, 47, 72, 62, 21], 28: [12, 25, 65, 83, 79, 43, 94, 35, 99, 36, 62, 39, 64, 95, 44, 82, 97, 46, 85, 47, 73, 38, 54, 72], 15: [52, 18, 33, 67, 88, 57, 26, 37, 74, 69, 86, 89, 21, 68, 53, 58, 75, 41, 77, 28, 98, 48, 34, 56], 95: [72, 97, 12, 15, 74, 85, 82, 73, 35, 94, 65, 39, 43, 64, 36, 79, 83, 47, 38, 54, 44, 46, 67, 62], 26: [38, 77, 47, 53, 97, 43, 21, 46, 95, 69, 36, 28, 35, 25, 72, 65, 39, 85, 54, 99, 64, 48, 62, 82], 73: [12, 52, 74, 86, 15, 57, 56, 68, 89, 88, 83, 58, 79, 37, 18, 98, 75, 26, 69, 33, 44, 67, 41, 34], 83: [98, 48, 67, 57, 33, 44, 41, 34, 58, 15, 53, 74, 37, 68, 89, 69, 86, 88, 26, 56, 75, 12, 52, 18], 37: [41, 39, 18, 88, 58, 99, 69, 56, 36, 21, 53, 89, 28, 72, 77, 52, 25, 75, 95, 86, 48, 97, 26, 46], 54: [56, 88, 98, 64, 12, 34, 86, 65, 67, 33, 57, 68, 52, 79, 44, 15, 73, 37, 41, 74, 83, 75, 94, 18], 43: [68, 75, 98, 83, 33, 88, 62, 73, 37, 65, 56, 94, 67, 57, 52, 44, 54, 34, 79, 18, 15, 64, 12, 74], 44: [98, 48, 56, 15, 52, 12, 34, 41, 67, 68, 37, 88, 18, 89, 57, 21, 75, 86, 53, 26, 74, 69, 33, 58], 98: [69, 53, 33, 41, 36, 25, 95, 37, 99, 77, 56, 86, 21, 57, 89, 26, 28, 75, 88, 48, 58, 18, 52, 68], 58: [46, 36, 72, 25, 77, 89, 21, 97, 47, 85, 62, 95, 38, 69, 82, 48, 54, 99, 43, 35, 28, 53, 39, 26], 12: [15, 74, 37, 52, 53, 56, 33, 77, 48, 89, 68, 57, 18, 98, 75, 34, 86, 69, 67, 26, 88, 41, 21, 58], 65: [15, 67, 73, 79, 64, 33, 52, 34, 74, 98, 12, 86, 75, 88, 94, 68, 58, 41, 57, 83, 44, 56, 37, 18], 62: [41, 44, 98, 79, 64, 75, 12, 37, 65, 56, 33, 15, 34, 74, 88, 68, 18, 57, 54, 73, 83, 52, 94, 67], 46: [12, 73, 44, 47, 57, 68, 82, 62, 79, 38, 35, 34, 67, 83, 64, 54, 98, 74, 94, 65, 43, 15, 85, 33], 56: [85, 25, 46, 72, 36, 99, 75, 28, 86, 82, 88, 48, 77, 97, 21, 26, 95, 41, 89, 39, 52, 69, 58, 53], 89: [82, 28, 26, 21, 38, 69, 43, 36, 25, 62, 53, 95, 54, 48, 47, 46, 65, 35, 77, 99, 97, 39, 72, 85], 33: [41, 28, 58, 21, 53, 48, 97, 89, 88, 77, 57, 26, 86, 69, 36, 56, 25, 72, 75, 95, 52, 37, 99, 18], 41: [86, 47, 46, 25, 36, 69, 72, 97, 21, 26, 53, 43, 28, 85, 95, 48, 77, 58, 38, 39, 82, 35, 99, 89], 97: [74, 94, 79, 64, 65, 46, 34, 15, 68, 54, 12, 43, 82, 98, 47, 39, 62, 85, 38, 35, 44, 67, 83, 73], 47: [98, 43, 68, 54, 65, 67, 64, 44, 62, 57, 73, 34, 18, 37, 75, 56, 33, 83, 94, 88, 12, 79, 15, 74], 68: [72, 75, 77, 88, 57, 37, 18, 58, 56, 41, 53, 26, 86, 21, 69, 89, 25, 33, 36, 28, 99, 52, 48, 95], 34: [95, 26, 99, 69, 52, 21, 68, 41, 75, 57, 77, 28, 25, 37, 56, 48, 58, 18, 89, 98, 88, 33, 86, 53], 99: [64, 62, 12, 73, 94, 46, 54, 47, 79, 35, 95, 38, 43, 44, 65, 97, 72, 36, 83, 85, 39, 25, 82, 15], 67: [52, 28, 68, 33, 34, 53, 37, 57, 74, 21, 26, 99, 69, 58, 89, 86, 98, 48, 18, 56, 41, 75, 88, 77], 18: [88, 75, 89, 25, 86, 46, 77, 52, 26, 97, 56, 99, 28, 21, 41, 39, 69, 85, 48, 36, 72, 53, 58, 95], 69: [85, 36, 77, 94, 38, 53, 48, 54, 97, 64, 25, 82, 62, 35, 47, 43, 65, 39, 46, 95, 28, 99, 21, 72], 64: [83, 74, 75, 94, 34, 52, 58, 89, 12, 79, 57, 37, 18, 67, 41, 86, 44, 68, 73, 15, 98, 56, 88, 33], 53: [35, 95, 94, 79, 54, 36, 46, 97, 73, 85, 21, 38, 82, 25, 43, 64, 99, 77, 72, 47, 62, 28, 39, 65], 25: [44, 72, 79, 64, 47, 38, 97, 36, 73, 12, 95, 62, 15, 85, 67, 83, 46, 39, 43, 35, 65, 54, 82, 94], 36: [65, 39, 97, 83, 38, 64, 46, 79, 44, 73, 74, 15, 67, 35, 85, 54, 62, 34, 47, 72, 12, 43, 82, 94], 72: [54, 79, 62, 85, 39, 44, 94, 46, 82, 98, 43, 73, 97, 74, 15, 83, 35, 64, 65, 34, 47, 12, 67, 38], 21: [39, 38, 47, 25, 46, 65, 99, 79, 28, 35, 97, 64, 36, 94, 62, 83, 43, 73, 95, 82, 85, 54, 77, 72], 77: [79, 44, 82, 97, 72, 46, 43, 73, 35, 85, 39, 64, 94, 62, 54, 65, 83, 47, 38, 28, 25, 99, 36, 95], 57: [69, 88, 48, 99, 77, 37, 36, 97, 52, 72, 75, 39, 21, 56, 18, 58, 95, 89, 86, 41, 53, 25, 26, 28], 52: [35, 82, 72, 39, 28, 53, 26, 89, 97, 25, 38, 58, 95, 36, 85, 46, 21, 48, 47, 77, 86, 41, 69, 99], 39: [12, 94, 65, 73, 46, 83, 98, 74, 62, 67, 44, 64, 38, 85, 33, 15, 43, 47, 35, 68, 79, 82, 34, 54], 94: [98, 33, 73, 86, 34, 41, 37, 18, 26, 79, 56, 68, 83, 75, 15, 12, 74, 88, 67, 57, 89, 52, 58, 44], 38: [75, 37, 79, 74, 57, 65, 33, 73, 34, 18, 64, 98, 54, 56, 12, 62, 68, 67, 44, 83, 15, 43, 47, 94], 88: [52, 72, 77, 58, 97, 95, 85, 53, 38, 46, 35, 86, 48, 99, 69, 36, 39, 28, 89, 41, 82, 25, 26, 21], 48: [21, 47, 97, 73, 85, 46, 25, 36, 54, 38, 62, 94, 28, 82, 39, 65, 72, 53, 43, 64, 77, 35, 99, 95], 82: [83, 98, 38, 68, 74, 67, 12, 57, 94, 35, 33, 54, 43, 65, 37, 44, 15, 62, 73, 18, 47, 64, 79, 34], 85: [79, 47, 73, 82, 35, 44, 98, 67, 12, 83, 65, 43, 57, 33, 38, 54, 74, 34, 94, 64, 15, 62, 68, 37]}\n",
      "[98, 43, 68, 54, 65, 67, 64, 44, 62, 57, 73, 34, 18, 37, 75, 56, 33, 83, 94, 88, 12, 79, 15, 74]\n"
     ]
    }
   ],
   "source": [
    "# create a lookup table for page order rules\n",
    "\n",
    "por_lookup = {}\n",
    "\n",
    "for x, i in page_order_rules:\n",
    "    if x not in por_lookup:\n",
    "        por_lookup[x] = [i]\n",
    "    else:\n",
    "        por_lookup[x].append(i)\n",
    "\n",
    "print(por_lookup)\n",
    "print(por_lookup[47])"
   ]
  },
  {
   "cell_type": "code",
   "execution_count": 110,
   "metadata": {},
   "outputs": [
    {
     "name": "stdout",
     "output_type": "stream",
     "text": [
      "4462\n"
     ]
    }
   ],
   "source": [
    "def check_update(update):\n",
    "    for i in range(len(update)):\n",
    "        # for all numbers after update[i], check if update[i] is in their not_after list\n",
    "        after = update[i+1:]\n",
    "        if len(after) > 0:\n",
    "            # print(f\"{update[i]}, looking at rules for {after}\")\n",
    "            disallowed = set([item for sublist in [por_lookup[x] for x in after if x in por_lookup] for item in sublist])\n",
    "            # print(f\"{update[i]} should not be in {disallowed}\")\n",
    "            if update[i] in disallowed:\n",
    "                # print(f\"Update {update[i]} is not allowed before {after}\")\n",
    "                unapproved_updates.append(update)\n",
    "                return\n",
    "    approved_updates.append(update)\n",
    "\n",
    "approved_updates = []\n",
    "unapproved_updates = []\n",
    "\n",
    "for update in updates:\n",
    "    check_update(update)\n",
    "\n",
    "# find the middle number and sum them in all approved updates\n",
    "print(sum([x[len(x)//2] for x in approved_updates]))"
   ]
  },
  {
   "cell_type": "code",
   "execution_count": 111,
   "metadata": {},
   "outputs": [
    {
     "name": "stdout",
     "output_type": "stream",
     "text": [
      "6767\n"
     ]
    }
   ],
   "source": [
    "# correctly order the unapproved_updates\n",
    "\n",
    "def order_update(update):\n",
    "    for i in range(len(update)):\n",
    "        # for all numbers after update[i], check if update[i] is in their not_after list\n",
    "        after = update[i+1:]\n",
    "        if len(after) > 0:\n",
    "            # print(f\"{update[i]}, looking at rules for {after}\")\n",
    "            disallowed = set([item for sublist in [por_lookup[x] for x in after if x in por_lookup] for item in sublist])\n",
    "            # print(f\"{update[i]} should not be in {disallowed}\")\n",
    "            if update[i] in disallowed:\n",
    "                # print(f\"Update {update[i]} is not allowed before {after}\")\n",
    "                # swap with conflicting number\n",
    "                # find index of number before update[i] in update that is in after\n",
    "                swap_index = [j for j in range(len(update)) if update[j] in after][0]\n",
    "                # print(f\"Swapping {update[i]} with {update[swap_index]}\")\n",
    "                update[i], update[swap_index] = update[swap_index], update[i]\n",
    "\n",
    "    return update\n",
    "            \n",
    "fixed_updates = []\n",
    "while len(unapproved_updates) > 0:\n",
    "    ordered_updates = [order_update(update) for update in unapproved_updates]\n",
    "    unapproved_updates = []\n",
    "    approved_updates = []\n",
    "\n",
    "    for update in ordered_updates:\n",
    "        check_update(update)\n",
    "    \n",
    "    fixed_updates.append(approved_updates)    \n",
    "\n",
    "fixed_updates = [item for sublist in fixed_updates for item in sublist]\n",
    "print(sum([x[len(x)//2] for x in fixed_updates]))"
   ]
  }
 ],
 "metadata": {
  "kernelspec": {
   "display_name": ".venv",
   "language": "python",
   "name": "python3"
  },
  "language_info": {
   "codemirror_mode": {
    "name": "ipython",
    "version": 3
   },
   "file_extension": ".py",
   "mimetype": "text/x-python",
   "name": "python",
   "nbconvert_exporter": "python",
   "pygments_lexer": "ipython3",
   "version": "3.12.7"
  }
 },
 "nbformat": 4,
 "nbformat_minor": 2
}
