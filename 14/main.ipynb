{
 "cells": [
  {
   "cell_type": "code",
   "execution_count": 221,
   "metadata": {},
   "outputs": [],
   "source": [
    "import numpy as np\n",
    "from numpy.lib.stride_tricks import sliding_window_view\n",
    "\n",
    "class Robot():\n",
    "    def __init__(self, init_p, velo):\n",
    "        self.p = init_p\n",
    "        self.v = velo\n",
    "\n",
    "    def __repr__(self):\n",
    "        return f'(p={self.p}, v={self.v})'\n",
    "    \n",
    "class Floor():\n",
    "    def __init__(self, width, height):\n",
    "        self.width = width\n",
    "        self.height = height\n",
    "\n",
    "        self.tree_to_find = np.zeros((3, 5))\n",
    "        # set 1s in the shape of a tree\n",
    "        self.tree_to_find[:1, 2:3] = 1\n",
    "        self.tree_to_find[1:2, 1:4] = 1\n",
    "        self.tree_to_find[2:3, 0:5] = 1\n",
    "\n",
    "    def place(self, robots):\n",
    "        self.floor = np.zeros((self.height, self.width))\n",
    "        for r in robots:\n",
    "            self.floor[r.p[1], r.p[0]] += 1\n",
    "\n",
    "    def draw(self, robots):\n",
    "        self.place(robots)\n",
    "        print(self.floor)\n",
    "        print()\n",
    "\n",
    "    def tick(self, robots):\n",
    "        for r in robots:\n",
    "            # use modulo to wrap around\n",
    "            r.p = ((r.p[0] + r.v[0]) % self.width, (r.p[1] + r.v[1]) % self.height)\n",
    "\n",
    "        self.place(robots)\n",
    "\n",
    "    def __repr__(self):\n",
    "        return f'{self.floor}'\n",
    "    \n",
    "    def is_christmas_tree(self):\n",
    "        # most (i.e. >50%) of the robots arrange themselves into a christmas tree\n",
    "        # we have to do a \"tree\" search\n",
    "        v = sliding_window_view(self.floor, self.tree_to_find.shape)\n",
    "        if np.any(np.all(v == self.tree_to_find, axis=(2, 3))):\n",
    "            return True\n",
    "        return False"
   ]
  },
  {
   "cell_type": "code",
   "execution_count": 222,
   "metadata": {},
   "outputs": [
    {
     "name": "stdout",
     "output_type": "stream",
     "text": [
      "500 robots\n",
      "230436441\n"
     ]
    }
   ],
   "source": [
    "robots = []\n",
    "\n",
    "with open(\"input.txt\") as f:\n",
    "    for line in f:\n",
    "        p, v = line.strip().split(\" \")\n",
    "        p = p.split(\"=\")[1]\n",
    "        p = (int(p.split(\",\")[0]), int(p.split(\",\")[1]))\n",
    "        v = v.split(\"=\")[1]\n",
    "        v = (int(v.split(\",\")[0]), int(v.split(\",\")[1]))\n",
    "        robots.append(Robot(p, v))\n",
    "\n",
    "print(f\"{len(robots)} robots\")\n",
    "\n",
    "floor = Floor(101, 103)\n",
    "\n",
    "for i in range(100):\n",
    "    floor.tick(robots)\n",
    "\n",
    "q1 = floor.floor[0:floor.height//2, 0:floor.width//2]\n",
    "q2 = floor.floor[0:floor.height//2, 1+floor.width//2:]\n",
    "q3 = floor.floor[1+floor.height//2:floor.height, 0:floor.width//2]\n",
    "q4 = floor.floor[1+floor.height//2:floor.height, 1+floor.width//2:]\n",
    "\n",
    "print(np.prod([q1.sum(), q2.sum(), q3.sum(), q4.sum()], dtype=np.int64))"
   ]
  },
  {
   "cell_type": "code",
   "execution_count": 223,
   "metadata": {},
   "outputs": [
    {
     "name": "stdout",
     "output_type": "stream",
     "text": [
      "Found christmas tree at 8270\n"
     ]
    },
    {
     "data": {
      "image/png": "[encoded data removed]",
      "text/plain": [
       "<Figure size 640x480 with 1 Axes>"
      ]
     },
     "metadata": {},
     "output_type": "display_data"
    }
   ],
   "source": [
    "robots = []\n",
    "with open(\"input.txt\") as f:\n",
    "    for line in f:\n",
    "        p, v = line.strip().split(\" \")\n",
    "        p = p.split(\"=\")[1]\n",
    "        p = (int(p.split(\",\")[0]), int(p.split(\",\")[1]))\n",
    "        v = v.split(\"=\")[1]\n",
    "        v = (int(v.split(\",\")[0]), int(v.split(\",\")[1]))\n",
    "        robots.append(Robot(p, v))\n",
    "\n",
    "floor = Floor(101, 103)\n",
    "\n",
    "import matplotlib.pyplot as plt\n",
    "\n",
    "fig, ax = plt.subplots()\n",
    "ax.set_xlim(0, 101)\n",
    "ax.set_ylim(0, 103)\n",
    "plt.gca().invert_yaxis() # to make the y axis from bottom to top like in the problem\n",
    "\n",
    "scrub = 10**4\n",
    "\n",
    "for i in range(1, 10**4):\n",
    "    floor.tick(robots)\n",
    "    if floor.is_christmas_tree():\n",
    "        print(f\"Found christmas tree at {i}\")\n",
    "        christmas_frame = i\n",
    "        ax.imshow(floor.floor)\n",
    "        break"
   ]
  },
  {
   "cell_type": "code",
   "execution_count": 228,
   "metadata": {},
   "outputs": [
    {
     "name": "stderr",
     "output_type": "stream",
     "text": [
      "MovieWriter imagemagick unavailable; using Pillow instead.\n"
     ]
    },
    {
     "data": {
      "image/png": "[encoded data removed]",
      "text/plain": [
       "<Figure size 640x480 with 1 Axes>"
      ]
     },
     "metadata": {},
     "output_type": "display_data"
    }
   ],
   "source": [
    "# let's animate the robots moving into the christmas tree\n",
    "from matplotlib.animation import FuncAnimation\n",
    "\n",
    "robots = []\n",
    "with open(\"input.txt\") as f:\n",
    "    for line in f:\n",
    "        p, v = line.strip().split(\" \")\n",
    "        p = p.split(\"=\")[1]\n",
    "        p = (int(p.split(\",\")[0]), int(p.split(\",\")[1]))\n",
    "        v = v.split(\"=\")[1]\n",
    "        v = (int(v.split(\",\")[0]), int(v.split(\",\")[1]))\n",
    "        robots.append(Robot(p, v))\n",
    "\n",
    "floor = Floor(101, 103)\n",
    "\n",
    "fig, ax = plt.subplots()\n",
    "ax.set_xlim(0, 101)\n",
    "ax.set_ylim(0, 103)\n",
    "\n",
    "for _ in range(1, christmas_frame-10):\n",
    "    floor.tick(robots)\n",
    "\n",
    "def update(frame):\n",
    "    ax.clear()\n",
    "    ax.imshow(floor.floor)\n",
    "    plt.title(f\"frame {frame+christmas_frame-10}\")\n",
    "    floor.tick(robots)\n",
    "\n",
    "ani = FuncAnimation(fig, update, frames=20, repeat=False, interval=400)\n",
    "ani.save(\"tree_search.gif\", writer=\"imagemagick\")"
   ]
  }
 ],
 "metadata": {
  "kernelspec": {
   "display_name": ".venv",
   "language": "python",
   "name": "python3"
  },
  "language_info": {
   "codemirror_mode": {
    "name": "ipython",
    "version": 3
   },
   "file_extension": ".py",
   "mimetype": "text/x-python",
   "name": "python",
   "nbconvert_exporter": "python",
   "pygments_lexer": "ipython3",
   "version": "3.12.7"
  }
 },
 "nbformat": 4,
 "nbformat_minor": 2
}
