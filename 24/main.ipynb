{
 "cells": [
  {
   "cell_type": "code",
   "execution_count": 38,
   "metadata": {},
   "outputs": [
    {
     "name": "stdout",
     "output_type": "stream",
     "text": [
      "{'x00': True, 'x01': False, 'x02': True, 'x03': True, 'x04': False, 'x05': False, 'x06': True, 'x07': True, 'x08': False, 'x09': True, 'x10': True, 'x11': True, 'x12': True, 'x13': False, 'x14': True, 'x15': True, 'x16': True, 'x17': True, 'x18': True, 'x19': True, 'x20': False, 'x21': True, 'x22': False, 'x23': True, 'x24': False, 'x25': True, 'x26': True, 'x27': True, 'x28': True, 'x29': False, 'x30': False, 'x31': True, 'x32': False, 'x33': True, 'x34': True, 'x35': False, 'x36': False, 'x37': True, 'x38': False, 'x39': True, 'x40': True, 'x41': True, 'x42': True, 'x43': False, 'x44': True, 'y00': True, 'y01': False, 'y02': False, 'y03': True, 'y04': True, 'y05': False, 'y06': False, 'y07': False, 'y08': False, 'y09': False, 'y10': False, 'y11': True, 'y12': False, 'y13': True, 'y14': False, 'y15': True, 'y16': True, 'y17': True, 'y18': True, 'y19': False, 'y20': False, 'y21': True, 'y22': True, 'y23': True, 'y24': True, 'y25': False, 'y26': False, 'y27': True, 'y28': True, 'y29': True, 'y30': True, 'y31': False, 'y32': False, 'y33': False, 'y34': True, 'y35': True, 'y36': True, 'y37': False, 'y38': True, 'y39': True, 'y40': True, 'y41': True, 'y42': False, 'y43': True, 'y44': True}\n",
      "[{'type': 'AND', 'left': 'x03', 'right': 'y03', 'output': 'htr'}, {'type': 'AND', 'left': 'gwb', 'right': 'kvf', 'output': 'pkd'}, {'type': 'AND', 'left': 'x04', 'right': 'y04', 'output': 'jjm'}, {'type': 'XOR', 'left': 'qcm', 'right': 'twv', 'output': 'z21'}, {'type': 'XOR', 'left': 'rrq', 'right': 'bmp', 'output': 'z44'}, {'type': 'AND', 'left': 'x43', 'right': 'y43', 'output': 'pnn'}, {'type': 'XOR', 'left': 'x06', 'right': 'y06', 'output': 'qmt'}, {'type': 'AND', 'left': 'x26', 'right': 'y26', 'output': 'z26'}, {'type': 'AND', 'left': 'y00', 'right': 'x00', 'output': 'whb'}, {'type': 'XOR', 'left': 'jfq', 'right': 'fbb', 'output': 'z36'}, {'type': 'AND', 'left': 'y33', 'right': 'x33', 'output': 'mmb'}, {'type': 'AND', 'left': 'x38', 'right': 'y38', 'output': 'vqt'}, {'type': 'OR', 'left': 'bbh', 'right': 'qtd', 'output': 'jfq'}, {'type': 'AND', 'left': 'cbs', 'right': 'ttb', 'output': 'qtd'}, {'type': 'OR', 'left': 'wqs', 'right': 'cmf', 'output': 'tpf'}, {'type': 'AND', 'left': 'x10', 'right': 'y10', 'output': 'bfm'}, {'type': 'OR', 'left': 'djp', 'right': 'pfb', 'output': 'qvr'}, {'type': 'XOR', 'left': 'x20', 'right': 'y20', 'output': 'vhb'}, {'type': 'XOR', 'left': 'kkd', 'right': 'cjg', 'output': 'z32'}, {'type': 'XOR', 'left': 'qpp', 'right': 'stg', 'output': 'z41'}, {'type': 'AND', 'left': 'kkd', 'right': 'cjg', 'output': 'mdv'}, {'type': 'OR', 'left': 'tpp', 'right': 'pfj', 'output': 'twv'}, {'type': 'AND', 'left': 'www', 'right': 'qdf', 'output': 'vjf'}, {'type': 'XOR', 'left': 'y15', 'right': 'x15', 'output': 'hmr'}, {'type': 'XOR', 'left': 'mtg', 'right': 'sqm', 'output': 'z09'}, {'type': 'XOR', 'left': 'x33', 'right': 'y33', 'output': 'chc'}, {'type': 'AND', 'left': 'x41', 'right': 'y41', 'output': 'pkj'}, {'type': 'AND', 'left': 'x31', 'right': 'y31', 'output': 'cvn'}, {'type': 'AND', 'left': 'x09', 'right': 'y09', 'output': 'nvw'}, {'type': 'AND', 'left': 'mtg', 'right': 'sqm', 'output': 'chg'}, {'type': 'AND', 'left': 'pkr', 'right': 'kcv', 'output': 'thc'}, {'type': 'XOR', 'left': 'x07', 'right': 'y07', 'output': 'cds'}, {'type': 'AND', 'left': 'x15', 'right': 'y15', 'output': 'fpr'}, {'type': 'AND', 'left': 'mwv', 'right': 'jsg', 'output': 'wdw'}, {'type': 'XOR', 'left': 'mwv', 'right': 'jsg', 'output': 'z38'}, {'type': 'XOR', 'left': 'y16', 'right': 'x16', 'output': 'svs'}, {'type': 'XOR', 'left': 'y14', 'right': 'x14', 'output': 'fnq'}, {'type': 'OR', 'left': 'wth', 'right': 'vjf', 'output': 'btv'}, {'type': 'AND', 'left': 'bvp', 'right': 'gdb', 'output': 'stc'}, {'type': 'XOR', 'left': 'cjb', 'right': 'rjc', 'output': 'z04'}, {'type': 'AND', 'left': 'x13', 'right': 'y13', 'output': 'pfb'}, {'type': 'AND', 'left': 'x30', 'right': 'y30', 'output': 'qgf'}, {'type': 'AND', 'left': 'htq', 'right': 'rtk', 'output': 'dsm'}, {'type': 'XOR', 'left': 'x18', 'right': 'y18', 'output': 'kvf'}, {'type': 'AND', 'left': 'y12', 'right': 'x12', 'output': 'mqn'}, {'type': 'XOR', 'left': 'bcj', 'right': 'bkh', 'output': 'z03'}, {'type': 'AND', 'left': 'x07', 'right': 'y07', 'output': 'sdj'}, {'type': 'OR', 'left': 'bdf', 'right': 'wbw', 'output': 'qkf'}, {'type': 'XOR', 'left': 'y30', 'right': 'x30', 'output': 'kbn'}, {'type': 'AND', 'left': 'tpf', 'right': 'vhb', 'output': 'tpp'}, {'type': 'OR', 'left': 'hqd', 'right': 'fpr', 'output': 'hgh'}, {'type': 'XOR', 'left': 'vfm', 'right': 'hbw', 'output': 'z23'}, {'type': 'AND', 'left': 'x01', 'right': 'y01', 'output': 'bdf'}, {'type': 'OR', 'left': 'nvw', 'right': 'chg', 'output': 'vgp'}, {'type': 'XOR', 'left': 'x21', 'right': 'y21', 'output': 'qcm'}, {'type': 'AND', 'left': 'bwg', 'right': 'mfn', 'output': 'djp'}, {'type': 'OR', 'left': 'dnf', 'right': 'pkj', 'output': 'ksp'}, {'type': 'AND', 'left': 'y44', 'right': 'x44', 'output': 'gqr'}, {'type': 'AND', 'left': 'y11', 'right': 'x11', 'output': 'smr'}, {'type': 'OR', 'left': 'smr', 'right': 'dsm', 'output': 'ksn'}, {'type': 'OR', 'left': 'jkm', 'right': 'pkd', 'output': 'rjf'}, {'type': 'OR', 'left': 'thc', 'right': 'sqt', 'output': 'rbd'}, {'type': 'XOR', 'left': 'qvr', 'right': 'fnq', 'output': 'z14'}, {'type': 'AND', 'left': 'cjb', 'right': 'rjc', 'output': 'fsb'}, {'type': 'XOR', 'left': 'svg', 'right': 'fmt', 'output': 'z31'}, {'type': 'AND', 'left': 'x06', 'right': 'y06', 'output': 'ssv'}, {'type': 'OR', 'left': 'dtj', 'right': 'vvq', 'output': 'jvp'}, {'type': 'XOR', 'left': 'chv', 'right': 'fqf', 'output': 'z34'}, {'type': 'AND', 'left': 'cvr', 'right': 'hck', 'output': 'pjd'}, {'type': 'AND', 'left': 'dqp', 'right': 'nbm', 'output': 'hvv'}, {'type': 'AND', 'left': 'x29', 'right': 'y29', 'output': 'vvq'}, {'type': 'XOR', 'left': 'y13', 'right': 'x13', 'output': 'mfn'}, {'type': 'AND', 'left': 'ksn', 'right': 'nft', 'output': 'z12'}, {'type': 'XOR', 'left': 'jjd', 'right': 'whb', 'output': 'z01'}, {'type': 'AND', 'left': 'chc', 'right': 'rnq', 'output': 'vjh'}, {'type': 'AND', 'left': 'y36', 'right': 'x36', 'output': 'kfn'}, {'type': 'OR', 'left': 'cwh', 'right': 'vvw', 'output': 'ttb'}, {'type': 'AND', 'left': 'qkf', 'right': 'wsv', 'output': 'pqc'}, {'type': 'OR', 'left': 'rdj', 'right': 'kfv', 'output': 'gdb'}, {'type': 'AND', 'left': 'x08', 'right': 'y08', 'output': 'jrr'}, {'type': 'AND', 'left': 'x02', 'right': 'y02', 'output': 'vdf'}, {'type': 'XOR', 'left': 'x12', 'right': 'y12', 'output': 'nft'}, {'type': 'OR', 'left': 'ptf', 'right': 'jrr', 'output': 'sqm'}, {'type': 'OR', 'left': 'tdv', 'right': 'wjp', 'output': 'cjw'}, {'type': 'AND', 'left': 'qvr', 'right': 'fnq', 'output': 'mch'}, {'type': 'XOR', 'left': 'x28', 'right': 'y28', 'output': 'cfj'}, {'type': 'XOR', 'left': 'gtn', 'right': 'qmt', 'output': 'z06'}, {'type': 'OR', 'left': 'mqn', 'right': 'jpj', 'output': 'bwg'}, {'type': 'XOR', 'left': 'x36', 'right': 'y36', 'output': 'fbb'}, {'type': 'OR', 'left': 'qht', 'right': 'bfm', 'output': 'htq'}, {'type': 'AND', 'left': 'y42', 'right': 'x42', 'output': 'mkg'}, {'type': 'XOR', 'left': 'ksn', 'right': 'nft', 'output': 'jpj'}, {'type': 'AND', 'left': 'x20', 'right': 'y20', 'output': 'pfj'}, {'type': 'AND', 'left': 'cmt', 'right': 'nbq', 'output': 'gmc'}, {'type': 'XOR', 'left': 'rbd', 'right': 'knm', 'output': 'z25'}, {'type': 'XOR', 'left': 'pvj', 'right': 'ksp', 'output': 'z42'}, {'type': 'OR', 'left': 'kgj', 'right': 'stc', 'output': 'www'}, {'type': 'XOR', 'left': 'tpf', 'right': 'vhb', 'output': 'z20'}, {'type': 'OR', 'left': 'pjd', 'right': 'dsg', 'output': 'mwv'}, {'type': 'XOR', 'left': 'cbs', 'right': 'ttb', 'output': 'z35'}, {'type': 'OR', 'left': 'bfk', 'right': 'jvm', 'output': 'gwb'}, {'type': 'XOR', 'left': 'ffj', 'right': 'rpg', 'output': 'z17'}, {'type': 'OR', 'left': 'vjr', 'right': 'kwg', 'output': 'pkr'}, {'type': 'AND', 'left': 'pvj', 'right': 'ksp', 'output': 'dkc'}, {'type': 'XOR', 'left': 'y37', 'right': 'x37', 'output': 'cvr'}, {'type': 'XOR', 'left': 'btv', 'right': 'cfj', 'output': 'z28'}, {'type': 'OR', 'left': 'gtq', 'right': 'qgf', 'output': 'fmt'}, {'type': 'XOR', 'left': 'nbq', 'right': 'cmt', 'output': 'z39'}, {'type': 'AND', 'left': 'wgq', 'right': 'dqj', 'output': 'tws'}, {'type': 'AND', 'left': 'x24', 'right': 'y24', 'output': 'sqt'}, {'type': 'OR', 'left': 'whj', 'right': 'pnn', 'output': 'bmp'}, {'type': 'XOR', 'left': 'x02', 'right': 'y02', 'output': 'wsv'}, {'type': 'AND', 'left': 'stg', 'right': 'qpp', 'output': 'dnf'}, {'type': 'XOR', 'left': 'kbn', 'right': 'jvp', 'output': 'z30'}, {'type': 'AND', 'left': 'y39', 'right': 'x39', 'output': 'gwq'}, {'type': 'AND', 'left': 'cds', 'right': 'rkv', 'output': 'nph'}, {'type': 'XOR', 'left': 'kvf', 'right': 'gwb', 'output': 'z18'}, {'type': 'OR', 'left': 'mkg', 'right': 'dkc', 'output': 'sch'}, {'type': 'XOR', 'left': 'bqh', 'right': 'rjf', 'output': 'z19'}, {'type': 'XOR', 'left': 'hck', 'right': 'cvr', 'output': 'z37'}, {'type': 'OR', 'left': 'jmk', 'right': 'ssv', 'output': 'rkv'}, {'type': 'AND', 'left': 'x21', 'right': 'y21', 'output': 'cgd'}, {'type': 'OR', 'left': 'pqc', 'right': 'vdf', 'output': 'bkh'}, {'type': 'OR', 'left': 'rff', 'right': 'mts', 'output': 'rpg'}, {'type': 'AND', 'left': 'bkh', 'right': 'bcj', 'output': 'rhq'}, {'type': 'OR', 'left': 'bnv', 'right': 'bst', 'output': 'stg'}, {'type': 'XOR', 'left': 'bwg', 'right': 'mfn', 'output': 'z13'}, {'type': 'AND', 'left': 'sgt', 'right': 'scc', 'output': 'bnv'}, {'type': 'AND', 'left': 'btv', 'right': 'cfj', 'output': 'tdv'}, {'type': 'AND', 'left': 'svs', 'right': 'hgh', 'output': 'rff'}, {'type': 'AND', 'left': 'hbw', 'right': 'vfm', 'output': 'kwg'}, {'type': 'XOR', 'left': 'x40', 'right': 'y40', 'output': 'scc'}, {'type': 'AND', 'left': 'y17', 'right': 'x17', 'output': 'jvm'}, {'type': 'AND', 'left': 'y34', 'right': 'x34', 'output': 'chv'}, {'type': 'AND', 'left': 'y35', 'right': 'x35', 'output': 'bbh'}, {'type': 'OR', 'left': 'mdv', 'right': 'rft', 'output': 'rnq'}, {'type': 'AND', 'left': 'fqf', 'right': 'chv', 'output': 'cwh'}, {'type': 'AND', 'left': 'y28', 'right': 'x28', 'output': 'wjp'}, {'type': 'AND', 'left': 'sch', 'right': 'srj', 'output': 'whj'}, {'type': 'OR', 'left': 'htr', 'right': 'rhq', 'output': 'rjc'}, {'type': 'XOR', 'left': 'x05', 'right': 'y05', 'output': 'dqp'}, {'type': 'OR', 'left': 'cvn', 'right': 'qnk', 'output': 'cjg'}, {'type': 'AND', 'left': 'y14', 'right': 'x14', 'output': 'tfr'}, {'type': 'XOR', 'left': 'y11', 'right': 'x11', 'output': 'rtk'}, {'type': 'AND', 'left': 'jfq', 'right': 'fbb', 'output': 'trr'}, {'type': 'AND', 'left': 'ppb', 'right': 'hmr', 'output': 'hqd'}, {'type': 'OR', 'left': 'gtb', 'right': 'hvv', 'output': 'gtn'}, {'type': 'XOR', 'left': 'y44', 'right': 'x44', 'output': 'rrq'}, {'type': 'XOR', 'left': 'rtk', 'right': 'htq', 'output': 'z11'}, {'type': 'XOR', 'left': 'x01', 'right': 'y01', 'output': 'jjd'}, {'type': 'XOR', 'left': 'hmv', 'right': 'rts', 'output': 'z08'}, {'type': 'XOR', 'left': 'y10', 'right': 'x10', 'output': 'vpc'}, {'type': 'AND', 'left': 'jvp', 'right': 'kbn', 'output': 'gtq'}, {'type': 'AND', 'left': 'cjw', 'right': 'ntj', 'output': 'dtj'}, {'type': 'AND', 'left': 'x22', 'right': 'y22', 'output': 'prp'}, {'type': 'XOR', 'left': 'ppb', 'right': 'hmr', 'output': 'z15'}, {'type': 'AND', 'left': 'y18', 'right': 'x18', 'output': 'jkm'}, {'type': 'XOR', 'left': 'x39', 'right': 'y39', 'output': 'nbq'}, {'type': 'AND', 'left': 'jjd', 'right': 'whb', 'output': 'wbw'}, {'type': 'XOR', 'left': 'x34', 'right': 'y34', 'output': 'vvw'}, {'type': 'AND', 'left': 'x19', 'right': 'y19', 'output': 'wqs'}, {'type': 'OR', 'left': 'gwq', 'right': 'gmc', 'output': 'sgt'}, {'type': 'AND', 'left': 'rbd', 'right': 'knm', 'output': 'rdj'}, {'type': 'XOR', 'left': 'srj', 'right': 'sch', 'output': 'z43'}, {'type': 'AND', 'left': 'y05', 'right': 'x05', 'output': 'gtb'}, {'type': 'XOR', 'left': 'x08', 'right': 'y08', 'output': 'hmv'}, {'type': 'AND', 'left': 'y25', 'right': 'x25', 'output': 'kfv'}, {'type': 'OR', 'left': 'cgd', 'right': 'jth', 'output': 'dqj'}, {'type': 'XOR', 'left': 'vpc', 'right': 'vgp', 'output': 'z10'}, {'type': 'OR', 'left': 'tws', 'right': 'prp', 'output': 'hbw'}, {'type': 'OR', 'left': 'jjm', 'right': 'fsb', 'output': 'nbm'}, {'type': 'OR', 'left': 'wdw', 'right': 'vqt', 'output': 'cmt'}, {'type': 'AND', 'left': 'rrq', 'right': 'bmp', 'output': 'cbv'}, {'type': 'AND', 'left': 'rts', 'right': 'hmv', 'output': 'ptf'}, {'type': 'XOR', 'left': 'svs', 'right': 'hgh', 'output': 'z16'}, {'type': 'XOR', 'left': 'y41', 'right': 'x41', 'output': 'qpp'}, {'type': 'XOR', 'left': 'ntj', 'right': 'cjw', 'output': 'z29'}, {'type': 'AND', 'left': 'ffj', 'right': 'rpg', 'output': 'bfk'}, {'type': 'OR', 'left': 'gqr', 'right': 'cbv', 'output': 'z45'}, {'type': 'XOR', 'left': 'x25', 'right': 'y25', 'output': 'knm'}, {'type': 'XOR', 'left': 'chc', 'right': 'rnq', 'output': 'z33'}, {'type': 'XOR', 'left': 'y43', 'right': 'x43', 'output': 'srj'}, {'type': 'AND', 'left': 'vgp', 'right': 'vpc', 'output': 'qht'}, {'type': 'XOR', 'left': 'x00', 'right': 'y00', 'output': 'z00'}, {'type': 'XOR', 'left': 'cds', 'right': 'rkv', 'output': 'rts'}, {'type': 'XOR', 'left': 'x24', 'right': 'y24', 'output': 'kcv'}, {'type': 'AND', 'left': 'x32', 'right': 'y32', 'output': 'rft'}, {'type': 'XOR', 'left': 'nbm', 'right': 'dqp', 'output': 'z05'}, {'type': 'XOR', 'left': 'x35', 'right': 'y35', 'output': 'cbs'}, {'type': 'OR', 'left': 'mch', 'right': 'tfr', 'output': 'ppb'}, {'type': 'AND', 'left': 'x16', 'right': 'y16', 'output': 'mts'}, {'type': 'XOR', 'left': 'www', 'right': 'qdf', 'output': 'z27'}, {'type': 'AND', 'left': 'x23', 'right': 'y23', 'output': 'vjr'}, {'type': 'XOR', 'left': 'x26', 'right': 'y26', 'output': 'bvp'}, {'type': 'AND', 'left': 'gtn', 'right': 'qmt', 'output': 'jmk'}, {'type': 'XOR', 'left': 'x29', 'right': 'y29', 'output': 'ntj'}, {'type': 'XOR', 'left': 'y19', 'right': 'x19', 'output': 'bqh'}, {'type': 'AND', 'left': 'rjf', 'right': 'bqh', 'output': 'cmf'}, {'type': 'XOR', 'left': 'y38', 'right': 'x38', 'output': 'jsg'}, {'type': 'XOR', 'left': 'x32', 'right': 'y32', 'output': 'kkd'}, {'type': 'XOR', 'left': 'y03', 'right': 'x03', 'output': 'bcj'}, {'type': 'XOR', 'left': 'y31', 'right': 'x31', 'output': 'svg'}, {'type': 'XOR', 'left': 'y22', 'right': 'x22', 'output': 'wgq'}, {'type': 'XOR', 'left': 'qkf', 'right': 'wsv', 'output': 'z02'}, {'type': 'XOR', 'left': 'bvp', 'right': 'gdb', 'output': 'kgj'}, {'type': 'XOR', 'left': 'x04', 'right': 'y04', 'output': 'cjb'}, {'type': 'XOR', 'left': 'x17', 'right': 'y17', 'output': 'ffj'}, {'type': 'AND', 'left': 'y37', 'right': 'x37', 'output': 'dsg'}, {'type': 'AND', 'left': 'y27', 'right': 'x27', 'output': 'wth'}, {'type': 'XOR', 'left': 'y23', 'right': 'x23', 'output': 'vfm'}, {'type': 'XOR', 'left': 'sgt', 'right': 'scc', 'output': 'z40'}, {'type': 'OR', 'left': 'mmb', 'right': 'vjh', 'output': 'fqf'}, {'type': 'AND', 'left': 'qcm', 'right': 'twv', 'output': 'jth'}, {'type': 'XOR', 'left': 'y09', 'right': 'x09', 'output': 'mtg'}, {'type': 'OR', 'left': 'sdj', 'right': 'nph', 'output': 'z07'}, {'type': 'XOR', 'left': 'wgq', 'right': 'dqj', 'output': 'z22'}, {'type': 'OR', 'left': 'trr', 'right': 'kfn', 'output': 'hck'}, {'type': 'XOR', 'left': 'y27', 'right': 'x27', 'output': 'qdf'}, {'type': 'XOR', 'left': 'kcv', 'right': 'pkr', 'output': 'z24'}, {'type': 'XOR', 'left': 'x42', 'right': 'y42', 'output': 'pvj'}, {'type': 'AND', 'left': 'x40', 'right': 'y40', 'output': 'bst'}, {'type': 'AND', 'left': 'svg', 'right': 'fmt', 'output': 'qnk'}]\n"
     ]
    }
   ],
   "source": [
    "wires: dict[str, dict[int, int]] = {}\n",
    "gates = []\n",
    "gate_mode = False\n",
    "with open('input.txt') as f:\n",
    "    for i, line in enumerate(f):\n",
    "        line = line.strip()\n",
    "        if line == '':\n",
    "            gate_mode = True\n",
    "            continue\n",
    "\n",
    "        if gate_mode:\n",
    "            io = line.split('->')\n",
    "            obj = io[0].strip().split(' ')\n",
    "            obj = {'type': obj[1], 'left': obj[0], 'right': obj[2], 'output': io[1].strip()}\n",
    "            gates.append(obj)\n",
    "        else:\n",
    "            w_name = line[0:3]\n",
    "            w_value = bool(int(line[5]))\n",
    "            wires[w_name] = w_value\n",
    "\n",
    "\n",
    "print(wires)\n",
    "print(gates)"
   ]
  },
  {
   "cell_type": "markdown",
   "metadata": {},
   "source": [
    "This looks like a clear Graph Theory problem. We can define each gate as a node and each wire as an edge. We may have to invent nodes for the root.\n",
    "\n",
    "For each wire, $w_i$ there are two nodes $a_i$ and $b_i$\n",
    "In order to find the value of a given node $n_i$, we must detect if parent nodes are already calculated. If not, we must calculate them first, and so on.\n",
    "So define a recursive function $f(n_i)$ that returns the value of node $n_i$."
   ]
  },
  {
   "cell_type": "code",
   "execution_count": 39,
   "metadata": {},
   "outputs": [],
   "source": [
    "class Node():\n",
    "    def __init__(self, type: str, name: str, left: 'Node', right: 'Node', graph):\n",
    "        self.type = type\n",
    "        self.name = name\n",
    "        self.value: bool = None\n",
    "        self.graph = graph\n",
    "        self.left = left\n",
    "        self.right = right\n",
    "\n",
    "    def calculate(self):\n",
    "        if self.value is not None:\n",
    "            return self.value\n",
    "\n",
    "        self.connect()\n",
    "\n",
    "        if self.type == 'AND':\n",
    "            return self.and_gate()\n",
    "        elif self.type == 'OR':\n",
    "            return self.or_gate()\n",
    "        elif self.type == 'XOR':\n",
    "            return self.xor_gate()\n",
    "\n",
    "    def and_gate(self):\n",
    "        self.value = self.left.calculate() & self.right.calculate()\n",
    "        return self.value\n",
    "    \n",
    "    def or_gate(self):\n",
    "        self.value = self.left.calculate() | self.right.calculate()\n",
    "        return self.value\n",
    "    \n",
    "    def xor_gate(self):\n",
    "        self.value = self.left.calculate() ^ self.right.calculate()\n",
    "        return self.value\n",
    "    \n",
    "    def connect(self):\n",
    "        if isinstance(self.left, str) or isinstance(self.right, str):\n",
    "            self.left = self.graph[self.left]\n",
    "            self.right = self.graph[self.right]\n",
    "\n",
    "    def __str__(self):\n",
    "        return f'{self.left} {self.type} {self.right} -> {self.name}'\n",
    "    \n",
    "    def __repr__(self):\n",
    "        return f'{self.left} {self.type} {self.right} -> {self.name}'"
   ]
  },
  {
   "cell_type": "code",
   "execution_count": 40,
   "metadata": {},
   "outputs": [
    {
     "data": {
      "text/plain": [
       "56620966442854"
      ]
     },
     "execution_count": 40,
     "metadata": {},
     "output_type": "execute_result"
    }
   ],
   "source": [
    "graph = {}\n",
    "for gate in gates:\n",
    "    graph[gate['output']] = Node(gate['type'], gate['output'], gate['left'], gate['right'], graph)\n",
    "\n",
    "for wire in wires.keys():\n",
    "    graph[wire] = Node(wire, wire, None, None, graph)\n",
    "    graph[wire].value = wires[wire]\n",
    "\n",
    "z = []\n",
    "for key, value in graph.items():\n",
    "    if key.startswith('z'):\n",
    "        z.append((key, int(value.calculate())))\n",
    "\n",
    "# order by tuple index 0\n",
    "z.sort(key=lambda x: x[0])\n",
    "z = [x[1] for x in z]\n",
    "z\n",
    "\n",
    "# convert binary array to int\n",
    "res = sum(x * 2**i for i, x in enumerate(z))\n",
    "res"
   ]
  }
 ],
 "metadata": {
  "kernelspec": {
   "display_name": ".venv",
   "language": "python",
   "name": "python3"
  },
  "language_info": {
   "codemirror_mode": {
    "name": "ipython",
    "version": 3
   },
   "file_extension": ".py",
   "mimetype": "text/x-python",
   "name": "python",
   "nbconvert_exporter": "python",
   "pygments_lexer": "ipython3",
   "version": "3.12.7"
  }
 },
 "nbformat": 4,
 "nbformat_minor": 2
}
