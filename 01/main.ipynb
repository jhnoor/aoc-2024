{
 "cells": [
  {
   "cell_type": "code",
   "execution_count": 46,
   "metadata": {},
   "outputs": [
    {
     "name": "stdout",
     "output_type": "stream",
     "text": [
      "[10157, 10214, 10265, 10450, 10490, 10524, 10540, 10561, 10638, 10677]\n",
      "2430334\n"
     ]
    }
   ],
   "source": [
    "left = []\n",
    "right = []\n",
    "with open('input.txt') as f:\n",
    "    for line in f:\n",
    "        l = line.strip().split(\"   \")\n",
    "        left.append(int(l[0]))\n",
    "        right.append(int(l[1]))\n",
    "\n",
    "sorted_left = sorted(left)\n",
    "sorted_right = sorted(right)\n",
    "print(sorted_left[:10])\n",
    "\n",
    "cum_delta = 0\n",
    "for i in range(len(sorted_left)):\n",
    "    delta = abs(sorted_left[i] - sorted_right[i])\n",
    "    cum_delta += delta\n",
    "\n",
    "print(cum_delta)"
   ]
  },
  {
   "cell_type": "code",
   "execution_count": 48,
   "metadata": {},
   "outputs": [
    {
     "name": "stdout",
     "output_type": "stream",
     "text": [
      "28786472\n"
     ]
    }
   ],
   "source": [
    "left = []\n",
    "right = []\n",
    "with open('input.txt') as f:\n",
    "    for line in f:\n",
    "        l = line.strip().split(\"   \")\n",
    "        left.append(int(l[0]))\n",
    "        right.append(int(l[1]))\n",
    "\n",
    "sim_sum = 0\n",
    "for n in left:\n",
    "    right_occ = right.count(n)\n",
    "    sim_sum += n * right_occ\n",
    "\n",
    "print(sim_sum)"
   ]
  }
 ],
 "metadata": {
  "kernelspec": {
   "display_name": ".venv",
   "language": "python",
   "name": "python3"
  },
  "language_info": {
   "codemirror_mode": {
    "name": "ipython",
    "version": 3
   },
   "file_extension": ".py",
   "mimetype": "text/x-python",
   "name": "python",
   "nbconvert_exporter": "python",
   "pygments_lexer": "ipython3",
   "version": "3.12.7"
  }
 },
 "nbformat": 4,
 "nbformat_minor": 2
}
